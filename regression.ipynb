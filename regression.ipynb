{
 "cells": [
  {
   "cell_type": "markdown",
   "metadata": {},
   "source": [
    "# Longley's Economic Regression Data"
   ]
  },
  {
   "cell_type": "markdown",
   "metadata": {},
   "source": [
    "To demonstrate multiple linear regression, we're going to use the [`longley`](https://stat.ethz.ch/R-manual/R-devel/library/datasets/html/longley.html) dataset from the R [`datasets`](https://stat.ethz.ch/R-manual/R-devel/library/datasets/html/00Index.html) package. It is a macroeconomic dataset which provides a well-known example for a highly collinear regression. For convenience, a copy of this dataset is provided at http://cobweb.cs.uga.edu/~mec/longley.csv. First, let's load in the data using a [`Relation`](http://cobweb.cs.uga.edu/~jam/scalation_1.3/scalation_mathstat/target/scala-2.12/api/scalation/relalgebra/Relation$.html) to see what's available:"
   ]
  },
  {
   "cell_type": "code",
   "execution_count": 1,
   "metadata": {},
   "outputs": [
    {
     "data": {
      "text/html": [
       "<pre style=\"font-size: small; display: flex; white-space: normal; word-break: break-word;\"><code>url: String = http://cobweb.cs.uga.edu/~mec/longley.csv\n",
       "</code></pre>"
      ]
     },
     "metadata": {},
     "output_type": "display_data"
    },
    {
     "data": {
      "text/html": [
       "<pre style=\"font-size: small; display: flex; white-space: normal; word-break: break-word;\"><code>rel: scalation.relalgebra.Relation =\n",
       "Relation(longley, 0,\n",
       "ArraySeq(id, GNP.deflator, GNP, Unemployed, Armed.Forces, Population, Year, Employed),\n",
       "VectorS(1947,\t1948,\t1949,\t1950,\t1951,\t1952,\t1953,\t1954,\t1955,\t1956,\t1957,\t1958,\t1959,\t1960,\t1961,\t1962)\n",
       "VectorD(83.0000,\t88.5000,\t88.2000,\t89.5000,\t96.2000,\t98.1000,\t99.0000,\t100.000,\t101.200,\t104.600,\t108.400,\t110.800,\t112.600,\t114.200,\t115.700,\t116.900)\n",
       "VectorD(234.289,\t259.426,\t258.054,\t284.599,\t328.975,\t346.999,\t365.385,\t363.112,\t397.469,\t419.180,\t442.769,\t444.546,\t482.704,\t502.601,\t518.173,\t554.894)\n",
       "VectorD(235.600,\t232.500,\t368.200,\t335.100,\t209.900,\t193.200,\t187.000,\t357.800,\t290.400,\t282.200,\t293.600,\t468.100,\t381.300,\t393.100,\t480.600,\t400.700)\n",
       "VectorD(159.000,\t145.600,\t161.600,\t165.000,\t309.900,\t359.400,\t354.700,\t335.000,\t304.800,\t285...\n",
       "</code></pre>"
      ]
     },
     "metadata": {},
     "output_type": "display_data"
    },
    {
     "data": {
      "text/html": [
       "<pre style=\"font-size: small; display: flex; white-space: normal; word-break: break-word;\"><code>|--------------------------------------------------------------------------------------------------------------------------------------------------|\n",
       "| Relation name = longley, key-column = 0                                                                                                          |\n",
       "|--------------------------------------------------------------------------------------------------------------------------------------------------|\n",
       "|                 id      GNP.deflator               GNP        Unemployed      Armed.Forces        Population              Year          Employed |\n",
       "|--------------------------------------------------------------------------------------------------------------------------------------------------|\n",
       "|               1947           83.0000           234.289           235.600           159.000           107.608           1947.00           60.3230 |\n",
       "|               1948           88.5000           259.426           232.500           145.600           108.632           1948.00           61.1220 |\n",
       "|               1949           88.2000           258.054           368.200           161.600           109.773           1949.00           60.1710 |\n",
       "|               1950           89.5000           284.599           335.100           165.000           110.929           1950.00           61.1870 |\n",
       "|               1951           96.2000           328.975           209.900           309.900           112.075           1951.00           63.2210 |\n",
       "|               1952           98.1000           346.999           193.200           359.400           113.270           1952.00           63.6390 |\n",
       "|               1953           99.0000           365.385           187.000           354.700           115.094           1953.00           64.9890 |\n",
       "|               1954           100.000           363.112           357.800           335.000           116.219           1954.00           63.7610 |\n",
       "|               1955           101.200           397.469           290.400           304.800           117.388           1955.00           66.0190 |\n",
       "|               1956           104.600           419.180           282.200           285.700           118.734           1956.00           67.8570 |\n",
       "|               1957           108.400           442.769           293.600           279.800           120.445           1957.00           68.1690 |\n",
       "|               1958           110.800           444.546           468.100           263.700           121.950           1958.00           66.5130 |\n",
       "|               1959           112.600           482.704           381.300           255.200           123.366           1959.00           68.6550 |\n",
       "|               1960           114.200           502.601           393.100           251.400           125.368           1960.00           69.5640 |\n",
       "|               1961           115.700           518.173           480.600           257.200           127.852           1961.00           69.3310 |\n",
       "|               1962           116.900           554.894           400.700           282.700           130.081           1962.00           70.5510 |\n",
       "|--------------------------------------------------------------------------------------------------------------------------------------------------|\n",
       "</code></pre>"
      ]
     },
     "metadata": {},
     "output_type": "display_data"
    }
   ],
   "source": [
    "import scalation.relalgebra.Relation\n",
    "val url = \"http://cobweb.cs.uga.edu/~mec/longley.csv\"\n",
    "val rel = Relation(url, \"longley\", \"SDDDDDDD\", 0, \",\")\n",
    "rel.show()"
   ]
  },
  {
   "cell_type": "markdown",
   "metadata": {},
   "source": [
    "Suppose we want to model `Employed` using the other variables in a multiple linear regression. We first need to create the design matrix `x` and response vector `y` from the `Relation`. Then we create and train a `Regression` model."
   ]
  },
  {
   "cell_type": "code",
   "execution_count": null,
   "metadata": {},
   "outputs": [],
   "source": [
    "import scalation.analytics.Regression\n",
    "val (x, y) = rel.toMatriDD((1 to 6).toSeq, 7)\n",
    "val rg = new Regression(x, y)\n",
    "rg.train()\n",
    "rg.report()"
   ]
  },
  {
   "cell_type": "markdown",
   "metadata": {},
   "source": [
    "The resulting model is known to be highly collinear, as evidenced by the large p-values in the table."
   ]
  },
  {
   "cell_type": "markdown",
   "metadata": {},
   "source": [
    "## References\n",
    "\n",
    "* J. W. Longley (1967) An appraisal of least-squares programs from the point of view of the user. *Journal of the American Statistical Association* 62, 819–841.\n",
    "* Becker, R. A., Chambers, J. M. and Wilks, A. R. (1988) *The New S Language.* Wadsworth & Brooks/Cole."
   ]
  }
 ],
 "metadata": {
  "kernelspec": {
   "display_name": "ScalaTion",
   "language": "scala",
   "name": "scalation"
  },
  "language_info": {
   "file_extension": ".scala",
   "mimetype": "text/x-scala-source",
   "name": "scala"
  }
 },
 "nbformat": 4,
 "nbformat_minor": 2
}
