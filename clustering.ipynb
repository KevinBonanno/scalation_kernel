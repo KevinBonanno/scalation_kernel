{
 "cells": [
  {
   "cell_type": "markdown",
   "metadata": {},
   "source": [
    "# Clustering of Edgar Anderson's Iris Data"
   ]
  },
  {
   "cell_type": "markdown",
   "metadata": {},
   "source": [
    "To demonstrate K-means clustering, we're going to use Fisher’s and Anderson’s [`iris`](https://stat.ethz.ch/R-manual/R-devel/library/datasets/html/iris.html) dataset from the R [`datasets`](https://stat.ethz.ch/R-manual/R-devel/library/datasets/html/00Index.html) package. It is  a dataset that gives the measurements in centimeters of the variables sepal length and width and petal length and width, respectively, for 50 flowers from each of 3 species of iris. For convenience, a copy of this dataset is provided at http://cobweb.cs.uga.edu/~mec/iris.csv. First, let's load in the data using a [`Relation`](http://cobweb.cs.uga.edu/~jam/scalation_1.3/scalation_mathstat/target/scala-2.12/api/scalation/relalgebra/Relation$.html) to see what's available:"
   ]
  },
  {
   "cell_type": "code",
   "execution_count": null,
   "metadata": {},
   "outputs": [],
   "source": [
    "import scalation.relalgebra.Relation\n",
    "val url = \"http://cobweb.cs.uga.edu/~mec/iris.csv\"\n",
    "val rel = Relation(url, \"longley\", \"SDDDDS\", 0, \",\")\n",
    "rel.show()"
   ]
  },
  {
   "cell_type": "markdown",
   "metadata": {},
   "source": [
    "Let's see if a cluster analysis reveals any relationship between petal size and species. To accomplish this, we will make a matrix of points corresponding to `Petal.Length` and `Petal.Width`, then attempt to cluster them into three clusters (i.e., the number of species) using the *k-means++* clustering algorithm provided in ScalaTion's `KMeansPPClusterer`."
   ]
  },
  {
   "cell_type": "code",
   "execution_count": null,
   "metadata": {},
   "outputs": [],
   "source": [
    "import scalation.analytics.clusterer.KMeansPPClusterer\n",
    "import scalation.linalgebra.MatrixD\n",
    "val x = rel.toMatriD((3 to 4).toSeq).asInstanceOf[MatrixD]\n",
    "val (cl, c) = KMeansPPClusterer(x, 3)"
   ]
  },
  {
   "cell_type": "markdown",
   "metadata": {},
   "source": [
    "Using the cluster assignments, let's select rows from the dataset to see if each cluster corresponds to a single species. "
   ]
  },
  {
   "cell_type": "code",
   "execution_count": null,
   "metadata": {},
   "outputs": [],
   "source": [
    "for (k <- 0 until 3) rel.selectAt(c.zipWithIndex.filter(_._1 == k).map(_._2).toSeq).pi(\"Species\").show()"
   ]
  },
  {
   "cell_type": "markdown",
   "metadata": {},
   "source": [
    "Based on the output, we see that each of the three clusters is clearly dominated by a single species. In fact, the second cluster only contained a single species. This suggests that there is some relationship between petal size and species."
   ]
  },
  {
   "cell_type": "markdown",
   "metadata": {},
   "source": [
    "## References\n",
    "* Becker, R. A., Chambers, J. M. and Wilks, A. R. (1988) *The New S Language.* Wadsworth & Brooks/Cole.\n",
    "* Fisher, R. A. (1936) The use of multiple measurements in taxonomic problems. *Annals of Eugenics*, 7, Part II, 179–188.\n",
    "* Anderson, Edgar (1935). The irises of the Gaspe Peninsula, *Bulletin of the American Iris Society*, 59, 2–5."
   ]
  },
  {
   "cell_type": "code",
   "execution_count": null,
   "metadata": {},
   "outputs": [],
   "source": []
  }
 ],
 "metadata": {
  "kernelspec": {
   "display_name": "ScalaTion",
   "language": "scala",
   "name": "scalation"
  },
  "language_info": {
   "file_extension": ".scala",
   "mimetype": "text/x-scala-source",
   "name": "scala"
  }
 },
 "nbformat": 4,
 "nbformat_minor": 2
}
